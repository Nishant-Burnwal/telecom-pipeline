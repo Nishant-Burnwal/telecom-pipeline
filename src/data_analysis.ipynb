{
 "cells": [
  {
   "cell_type": "code",
   "execution_count": null,
   "id": "08d43cde",
   "metadata": {},
   "outputs": [],
   "source": [
    "import pandas as pd\n",
    "from sqlalchemy import create_engine\n",
    "from dotenv import load_dotenv\n",
    "import os"
   ]
  },
  {
   "cell_type": "code",
   "execution_count": 2,
   "id": "e3b9307b",
   "metadata": {},
   "outputs": [],
   "source": [
    "# Load environment variables\n",
    "load_dotenv()\n",
    "\n",
    "MYSQL_HOST = os.getenv(\"MYSQL_HOST\")\n",
    "MYSQL_PORT = os.getenv(\"MYSQL_PORT\")\n",
    "MYSQL_DB = os.getenv(\"MYSQL_DB\")\n",
    "MYSQL_USER = os.getenv(\"MYSQL_USER\")\n",
    "MYSQL_PASSWORD = os.getenv(\"MYSQL_PASSWORD\")"
   ]
  },
  {
   "cell_type": "code",
   "execution_count": 3,
   "id": "21ec47e0",
   "metadata": {},
   "outputs": [],
   "source": [
    "#Connect to the database\n",
    "connection_string = f\"mysql+pymysql://{MYSQL_USER}:{MYSQL_PASSWORD}@{MYSQL_HOST}:{MYSQL_PORT}/{MYSQL_DB}\"\n",
    "engine = create_engine(connection_string)"
   ]
  },
  {
   "cell_type": "code",
   "execution_count": 4,
   "id": "46d031a4",
   "metadata": {},
   "outputs": [],
   "source": [
    "# Load data from MySQL table\n",
    "query = \"SELECT * FROM network_logs;\"\n",
    "df = pd.read_sql(query, con=engine)"
   ]
  },
  {
   "cell_type": "code",
   "execution_count": 5,
   "id": "61e849ff",
   "metadata": {},
   "outputs": [
    {
     "name": "stdout",
     "output_type": "stream",
     "text": [
      "Data loaded from MySQL with shape: (410, 9)\n",
      "   id                   timestamp   region device_id customer_id  latency_ms  \\\n",
      "0   1  2025-10-13 17:13:09.483702    South   DEV-018    CUST-004    86.94730   \n",
      "1   2  2025-10-10 03:13:09.483587     East   DEV-001    CUST-001    49.30650   \n",
      "2   3  2025-10-10 09:13:09.483807  Central   DEV-003    CUST-001    16.98860   \n",
      "3   4  2025-10-11 13:13:09.483599  Unknown   DEV-017    CUST-013    51.68820   \n",
      "4   5  2025-10-08 10:13:09.483585    South   DEV-005    CUST-006     6.87705   \n",
      "\n",
      "   uptime_percent  packet_loss_rate  bandwidth_usage_mb  \n",
      "0         92.7019          0.567788             891.004  \n",
      "1         95.9159          0.000000            1757.910  \n",
      "2         99.0012          3.997050            1710.020  \n",
      "3         89.3120          0.000000            1228.900  \n",
      "4         94.0393          0.000000            1945.050  \n"
     ]
    }
   ],
   "source": [
    "print(\"Data loaded from MySQL with shape:\", df.shape)\n",
    "print(df.head())"
   ]
  },
  {
   "cell_type": "code",
   "execution_count": 6,
   "id": "04ff1526",
   "metadata": {},
   "outputs": [
    {
     "name": "stdout",
     "output_type": "stream",
     "text": [
      "\n",
      "Overall etwork KPIs:\n",
      "Average Latency (ms): 49.31 ms\n",
      "Average Uptime (%): 90.01%\n",
      "Average Packet Loss Rate (%): 2.44%\n",
      "Total Bandwidth Usage (MB): 443397.32 MB\n",
      "\n"
     ]
    }
   ],
   "source": [
    "# ----------------\n",
    "# 1. Overall KPIs\n",
    "# ----------------\n",
    "\n",
    "avg_latency = df['latency_ms'].mean()\n",
    "avg_uptime = df['uptime_percent'].mean()\n",
    "avg_packet_loss = df['packet_loss_rate'].mean()\n",
    "total_bandwidth = df['bandwidth_usage_mb'].sum()\n",
    "\n",
    "print(\"\\nOverall etwork KPIs:\")\n",
    "print(f\"Average Latency (ms): {avg_latency:.2f} ms\")\n",
    "print(f\"Average Uptime (%): {avg_uptime:.2f}%\")\n",
    "print(f\"Average Packet Loss Rate (%): {avg_packet_loss:.2f}%\")\n",
    "print(f\"Total Bandwidth Usage (MB): {total_bandwidth:.2f} MB\\n\")"
   ]
  },
  {
   "cell_type": "code",
   "execution_count": 7,
   "id": "94530bbc",
   "metadata": {},
   "outputs": [
    {
     "name": "stdout",
     "output_type": "stream",
     "text": [
      "Regional performance summary:\n",
      "    region  latency_ms  uptime_percent  packet_loss_rate  bandwidth_usage_mb\n",
      "0  Central   45.557799       89.642271          2.981780           68640.316\n",
      "1     East   51.980831       90.095977          2.430067           88418.724\n",
      "2    North   51.506147       89.668595          2.477021           91339.552\n",
      "3    South   47.229428       90.337595          2.092380           98727.254\n",
      "4  Unknown   47.681650       94.490167          2.045373           15209.274\n",
      "5     West   50.061275       89.511564          2.371019           81062.200 \n",
      "\n"
     ]
    }
   ],
   "source": [
    "# ----------------\n",
    "# 2. KPIs by Region\n",
    "# ----------------\n",
    "\n",
    "region_summary = (\n",
    "    df.groupby('region')\n",
    "    .agg({\n",
    "        'latency_ms': 'mean',\n",
    "        'uptime_percent': 'mean',\n",
    "        'packet_loss_rate': 'mean',\n",
    "        'bandwidth_usage_mb': 'sum'\n",
    "    })\n",
    "    .reset_index()\n",
    "    )\n",
    "\n",
    "print(\"Regional performance summary:\")\n",
    "print(region_summary, \"\\n\")"
   ]
  },
  {
   "cell_type": "code",
   "execution_count": 8,
   "id": "f4e1c667",
   "metadata": {},
   "outputs": [
    {
     "name": "stdout",
     "output_type": "stream",
     "text": [
      "Regions with underperforming metrics:\n",
      "    region  latency_ms  uptime_percent  packet_loss_rate  bandwidth_usage_mb\n",
      "0  Central   45.557799       89.642271          2.981780           68640.316\n",
      "1     East   51.980831       90.095977          2.430067           88418.724\n",
      "2    North   51.506147       89.668595          2.477021           91339.552\n",
      "3    South   47.229428       90.337595          2.092380           98727.254\n",
      "4  Unknown   47.681650       94.490167          2.045373           15209.274\n",
      "5     West   50.061275       89.511564          2.371019           81062.200\n"
     ]
    }
   ],
   "source": [
    "# ----------------\n",
    "# 3. Detecy Underperforming Devices\n",
    "# ----------------\n",
    "\n",
    "poor_regions = region_summary[\n",
    "    (region_summary[\"uptime_percent\"] < 90) | (region_summary[\"packet_loss_rate\"] > 1)\n",
    "]\n",
    "\n",
    "if not poor_regions.empty:\n",
    "    print(\"Regions with underperforming metrics:\")\n",
    "    print(poor_regions)\n",
    "else:\n",
    "    print(\"All regions are performing within acceptable thresholds.\")"
   ]
  },
  {
   "cell_type": "code",
   "execution_count": null,
   "id": "4433cbe1",
   "metadata": {},
   "outputs": [],
   "source": []
  }
 ],
 "metadata": {
  "kernelspec": {
   "display_name": ".venv (3.10.7)",
   "language": "python",
   "name": "python3"
  },
  "language_info": {
   "codemirror_mode": {
    "name": "ipython",
    "version": 3
   },
   "file_extension": ".py",
   "mimetype": "text/x-python",
   "name": "python",
   "nbconvert_exporter": "python",
   "pygments_lexer": "ipython3",
   "version": "3.10.7"
  }
 },
 "nbformat": 4,
 "nbformat_minor": 5
}
